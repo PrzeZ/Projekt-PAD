{
 "cells": [
  {
   "cell_type": "code",
   "execution_count": 1,
   "metadata": {},
   "outputs": [],
   "source": [
    "import pandas as pd\n",
    "import plotly.express as px\n",
    "import numpy as np\n",
    "from scipy import stats\n",
    "from sklearn.model_selection import train_test_split\n",
    "from sklearn.linear_model import LinearRegression\n",
    "from sklearn.metrics import mean_squared_error\n",
    "import streamlit as st"
   ]
  },
  {
   "cell_type": "markdown",
   "metadata": {},
   "source": [
    "1.\twstępna analiza danych i czyszczenie:\n",
    "a.\tduplikaty\n",
    "b.\twartości odstające\n",
    "c.\tspójność\n",
    "d.\tbraki w danych\n",
    "e.\tskala wartości\n",
    "f.\tinne\n",
    "2.\twizualizacja rozkładu zmiennych, zależności ceny od innych zmiennych, liczebność kategorii\n",
    "3.\tbudowa modelu regresji ceny od pozostałych zmiennych. Istotne zmienne należy wybrać eliminacją wsteczną lub selekcją postępującą.\n",
    "4.\twizualizacja modelu regresji\n",
    "5.\tstworzenie dashboardu z powyższymi wizualizacjami i próbką danych w postaci tabeli. Dashboard powinien umożliwiać zmianę parametrów wykresów - np. zależność ceny od innej, wybranej przez użytkownika zmiennej\n",
    "\n",
    "Wszystkie wizualizacje i dane powinny zostać zaprezentowane w postaci dashboardu. Etapy czyszczenia danych i budowy modelu regresji należy zawrzeć w notatniku Jupytera (.ipynb).\n"
   ]
  },
  {
   "cell_type": "code",
   "execution_count": 2,
   "metadata": {},
   "outputs": [],
   "source": [
    "#porządkowanie tabeli\n",
    "df = pd.read_csv(\"messy_data.csv\", names=['carat', 'clarity' , 'color' ,'cut', 'x dimension', 'y dimension', 'z dimension', 'depth', 'table', 'price'])\n",
    "df.drop(index=0, inplace=True)"
   ]
  },
  {
   "cell_type": "code",
   "execution_count": 3,
   "metadata": {},
   "outputs": [],
   "source": [
    "#odrzucenie duplikatów\n",
    "df.drop_duplicates(subset=None, inplace=True)"
   ]
  },
  {
   "cell_type": "code",
   "execution_count": 4,
   "metadata": {},
   "outputs": [],
   "source": [
    "#zamiana dziwnych i pustych wartości na NaN\n",
    "df.replace(r'^\\s*$', np.nan, regex=True, inplace=True)"
   ]
  },
  {
   "cell_type": "code",
   "execution_count": 5,
   "metadata": {},
   "outputs": [],
   "source": [
    "#konwersja na typ float\n",
    "df['carat'] = df['carat'].astype(float)\n",
    "df['x dimension'] = df['x dimension'].astype(float)\n",
    "df['y dimension'] = df['y dimension'].astype(float)\n",
    "df['z dimension'] = df['z dimension'].astype(float)\n",
    "df['depth'] = df['depth'].astype(float)\n",
    "df['table'] = df['table'].astype(float)\n",
    "df['price'] = df['price'].astype(float)\n",
    "\n",
    "#zamiana na duże litery\n",
    "df['cut'] = df['cut'].str.upper()\n",
    "df['clarity'] = df['clarity'].str.upper()\n",
    "df['color'] = df['color'].str.upper()"
   ]
  },
  {
   "cell_type": "code",
   "execution_count": 6,
   "metadata": {},
   "outputs": [],
   "source": [
    "#zamiana NaN na średnią tam gdzie się da\n",
    "df['carat'].fillna(df[\"carat\"].mean(), inplace=True)\n",
    "df['x dimension'].fillna(df[\"x dimension\"].mean(), inplace=True)\n",
    "df['y dimension'].fillna(df[\"y dimension\"].mean(), inplace=True)\n",
    "df['z dimension'].fillna(df[\"z dimension\"].mean(), inplace=True)\n",
    "df['depth'].fillna(df[\"depth\"].mean(), inplace=True)\n",
    "df['table'].fillna(df[\"table\"].mean(), inplace=True)\n",
    "df['price'].fillna(df[\"price\"].mean(), inplace=True)\n",
    "\n",
    "#i usunięcie tam gdzie się nie da\n",
    "df.dropna(inplace=True)"
   ]
  },
  {
   "cell_type": "code",
   "execution_count": 7,
   "metadata": {},
   "outputs": [],
   "source": [
    "# Usuwanie wartości odstających\n",
    "numeric_columns = ['carat', 'x dimension', 'y dimension', 'z dimension', 'depth', 'table', 'price']\n",
    "\n",
    "z = np.abs(stats.zscore(df['carat']))\n",
    "threshold_z = 2\n",
    "outlier_indices = np.where(z > threshold_z)[0]\n",
    "no_outliers = df.drop(outlier_indices)\n",
    "df = no_outliers"
   ]
  },
  {
   "cell_type": "code",
   "execution_count": null,
   "metadata": {},
   "outputs": [],
   "source": []
  },
  {
   "cell_type": "code",
   "execution_count": null,
   "metadata": {},
   "outputs": [],
   "source": []
  },
  {
   "cell_type": "code",
   "execution_count": 8,
   "metadata": {},
   "outputs": [
    {
     "name": "stderr",
     "output_type": "stream",
     "text": [
      "2024-02-03 20:28:12.640 \n",
      "  \u001b[33m\u001b[1mWarning:\u001b[0m to view this Streamlit app on a browser, run it with the following\n",
      "  command:\n",
      "\n",
      "    streamlit run C:\\Users\\przem\\AppData\\Roaming\\Python\\Python311\\site-packages\\ipykernel_launcher.py [ARGUMENTS]\n"
     ]
    },
    {
     "data": {
      "text/plain": [
       "DeltaGenerator()"
      ]
     },
     "execution_count": 8,
     "metadata": {},
     "output_type": "execute_result"
    }
   ],
   "source": [
    "import pandas as pd\n",
    "import streamlit as st\n",
    "import plotly.express as px\n",
    "from sklearn.model_selection import train_test_split\n",
    "from sklearn.linear_model import LinearRegression\n",
    "from sklearn.metrics import mean_squared_error\n",
    "\n",
    "# Convert categorical variables into dummy/indicator variables\n",
    "df = pd.get_dummies(df, columns=['clarity', 'color', 'cut'], drop_first=True)  # add drop_first=True to avoid dummy variable trap\n",
    "\n",
    "# Split the data into features and target variable\n",
    "X = df.drop(columns=['price'])\n",
    "y = df['price']\n",
    "\n",
    "# Split the data into training and testing sets\n",
    "X_train, X_test, y_train, y_test = train_test_split(X, y, test_size=0.2, random_state=42)\n",
    "\n",
    "# Perform linear regression\n",
    "model = LinearRegression()\n",
    "model.fit(X_train, y_train)\n",
    "\n",
    "# Make predictions on the testing set\n",
    "y_pred = model.predict(X_test)\n",
    "\n",
    "# Calculate the Mean Squared Error\n",
    "mse = mean_squared_error(y_test, y_pred)\n",
    "st.write(\"Mean Squared Error:\", mse)\n",
    "\n",
    "# Plot results using Plotly Express\n",
    "fig = px.scatter(x=y_test, y=y_pred, labels={'x': 'Actual Price', 'y': 'Predicted Price'}, title='Actual vs Predicted Price')\n",
    "st.plotly_chart(fig)\n"
   ]
  }
 ],
 "metadata": {
  "kernelspec": {
   "display_name": "Python 3",
   "language": "python",
   "name": "python3"
  },
  "language_info": {
   "codemirror_mode": {
    "name": "ipython",
    "version": 3
   },
   "file_extension": ".py",
   "mimetype": "text/x-python",
   "name": "python",
   "nbconvert_exporter": "python",
   "pygments_lexer": "ipython3",
   "version": "3.11.3"
  }
 },
 "nbformat": 4,
 "nbformat_minor": 2
}
