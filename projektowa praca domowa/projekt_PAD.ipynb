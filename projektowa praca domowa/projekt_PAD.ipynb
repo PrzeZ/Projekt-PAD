{
 "cells": [
  {
   "cell_type": "code",
   "execution_count": 337,
   "metadata": {},
   "outputs": [],
   "source": [
    "import pandas as pd\n",
    "import plotly.express as px\n",
    "import numpy as np\n",
    "from scipy import stats\n",
    "from dash import Dash, html, dcc, Input, Output\n",
    "from sklearn.linear_model import LinearRegression"
   ]
  },
  {
   "cell_type": "markdown",
   "metadata": {},
   "source": [
    "1.\twstępna analiza danych i czyszczenie:\n",
    "a.\tduplikaty\n",
    "b.\twartości odstające\n",
    "c.\tspójność\n",
    "d.\tbraki w danych\n",
    "e.\tskala wartości\n",
    "f.\tinne\n",
    "2.\twizualizacja rozkładu zmiennych, zależności ceny od innych zmiennych, liczebność kategorii\n",
    "3.\tbudowa modelu regresji ceny od pozostałych zmiennych. Istotne zmienne należy wybrać eliminacją wsteczną lub selekcją postępującą.\n",
    "4.\twizualizacja modelu regresji\n",
    "5.\tstworzenie dashboardu z powyższymi wizualizacjami i próbką danych w postaci tabeli. Dashboard powinien umożliwiać zmianę parametrów wykresów - np. zależność ceny od innej, wybranej przez użytkownika zmiennej\n",
    "\n",
    "Wszystkie wizualizacje i dane powinny zostać zaprezentowane w postaci dashboardu. Etapy czyszczenia danych i budowy modelu regresji należy zawrzeć w notatniku Jupytera (.ipynb).\n"
   ]
  },
  {
   "cell_type": "code",
   "execution_count": 338,
   "metadata": {},
   "outputs": [],
   "source": [
    "#porządkowanie tabeli\n",
    "df = pd.read_csv(\"messy_data.csv\", names=['carat', 'clarity' , 'color' ,'cut', 'x dimension', 'y dimension', 'z dimension', 'depth', 'table', 'price'])\n",
    "df.drop(index=0, inplace=True)"
   ]
  },
  {
   "cell_type": "code",
   "execution_count": 339,
   "metadata": {},
   "outputs": [],
   "source": [
    "#odrzucenie duplikatów\n",
    "df.drop_duplicates(subset=None, inplace=True)"
   ]
  },
  {
   "cell_type": "code",
   "execution_count": 340,
   "metadata": {},
   "outputs": [],
   "source": [
    "#zamiana dziwnych i pustych wartości na NaN\n",
    "df.replace(r'^\\s*$', np.nan, regex=True, inplace=True)"
   ]
  },
  {
   "cell_type": "code",
   "execution_count": 341,
   "metadata": {},
   "outputs": [],
   "source": [
    "#konwersja na typ float\n",
    "df['carat'] = df['carat'].astype(float)\n",
    "df['x dimension'] = df['x dimension'].astype(float)\n",
    "df['y dimension'] = df['y dimension'].astype(float)\n",
    "df['z dimension'] = df['z dimension'].astype(float)\n",
    "df['depth'] = df['depth'].astype(float)\n",
    "df['table'] = df['table'].astype(float)\n",
    "df['price'] = df['price'].astype(float)\n",
    "\n",
    "#zamiana na duże litery\n",
    "df['cut'] = df['cut'].str.upper()\n",
    "df['clarity'] = df['clarity'].str.upper()\n",
    "df['color'] = df['color'].str.upper()"
   ]
  },
  {
   "cell_type": "code",
   "execution_count": 342,
   "metadata": {},
   "outputs": [],
   "source": [
    "#zamiana NaN na średnią tam gdzie się da\n",
    "df['carat'].fillna(df[\"carat\"].mean(), inplace=True)\n",
    "df['x dimension'].fillna(df[\"x dimension\"].mean(), inplace=True)\n",
    "df['y dimension'].fillna(df[\"y dimension\"].mean(), inplace=True)\n",
    "df['z dimension'].fillna(df[\"z dimension\"].mean(), inplace=True)\n",
    "df['depth'].fillna(df[\"depth\"].mean(), inplace=True)\n",
    "df['table'].fillna(df[\"table\"].mean(), inplace=True)\n",
    "df['price'].fillna(df[\"price\"].mean(), inplace=True)\n",
    "\n",
    "#i usunięcie tam gdzie się nie da\n",
    "df.dropna(inplace=True)"
   ]
  },
  {
   "cell_type": "code",
   "execution_count": 343,
   "metadata": {},
   "outputs": [],
   "source": [
    "# Usuwanie wartości odstających\n",
    "numeric_columns = ['carat', 'x dimension', 'y dimension', 'z dimension', 'depth', 'table', 'price']\n",
    "\n",
    "z = np.abs(stats.zscore(df['carat']))\n",
    "threshold_z = 2\n",
    "outlier_indices = np.where(z > threshold_z)[0]\n",
    "no_outliers = df.drop(outlier_indices)\n",
    "df = no_outliers"
   ]
  },
  {
   "cell_type": "code",
   "execution_count": 344,
   "metadata": {},
   "outputs": [],
   "source": [
    "\n",
    "# Enkodowanie danych (zwraca tuple aby można było dodać podpisy)\n",
    "def encode_categorical(df, column):\n",
    "    unique_values = df[column].unique()\n",
    "    encoding = {val: i for i, val in enumerate(unique_values)}\n",
    "    df[column + '_encoded'] = df[column].map(encoding)\n",
    "    return df, encoding\n",
    "\n",
    "def column_contains_strings(df, column_name):\n",
    "    return df[column_name].dtype == 'object'"
   ]
  },
  {
   "cell_type": "code",
   "execution_count": 345,
   "metadata": {},
   "outputs": [],
   "source": [
    "colors = {\n",
    "    'background' :'#ADD8E6',\n",
    "    'text': '7FDBFF'\n",
    "}"
   ]
  },
  {
   "cell_type": "code",
   "execution_count": 346,
   "metadata": {},
   "outputs": [
    {
     "data": {
      "text/html": [
       "\n",
       "        <iframe\n",
       "            width=\"100%\"\n",
       "            height=\"650\"\n",
       "            src=\"http://127.0.0.1:8050/\"\n",
       "            frameborder=\"0\"\n",
       "            allowfullscreen\n",
       "            \n",
       "        ></iframe>\n",
       "        "
      ],
      "text/plain": [
       "<IPython.lib.display.IFrame at 0x1fac4b5c690>"
      ]
     },
     "metadata": {},
     "output_type": "display_data"
    }
   ],
   "source": [
    "\n",
    "\n",
    "# Assuming df is your DataFrame containing the data\n",
    "\n",
    "app = Dash(__name__)\n",
    "\n",
    "app.layout = html.Div(style={'backgroundColor': colors['background']}, children=[\n",
    "    html.H1(children=\"Projekt PAD\", style={'textAlign': 'center', 'color': 'black'}),\n",
    "    html.Div(children=\"Interaktywny dashboard\", style={'textAlign': 'center', 'color': 'black'}),\n",
    "\n",
    "    dcc.Dropdown(\n",
    "        options=[\n",
    "            {'label': 'Carat', 'value': 'carat'},\n",
    "            {'label': 'Clarity', 'value': 'clarity'},\n",
    "            {'label': 'Color', 'value': 'color'},\n",
    "            {'label': 'Cut', 'value': 'cut'},\n",
    "            {'label': 'X Dimension', 'value': 'x dimension'},\n",
    "            {'label': 'Y Dimension', 'value': 'y dimension'},\n",
    "            {'label': 'Z Dimension', 'value': 'z dimension'},\n",
    "            {'label': 'Depth', 'value': 'depth'},\n",
    "            {'label': 'Table', 'value': 'table'},\n",
    "            {'label': 'Price', 'value': 'price'}\n",
    "        ],\n",
    "        value='carat', id='xdropdown'),\n",
    "\n",
    "    dcc.Checklist(\n",
    "        options=[\n",
    "            {'label': 'Show Linear Regression', 'value': 'linear_regression'},\n",
    "        ],\n",
    "        value=[],\n",
    "        id='checkbox'\n",
    "    ),\n",
    "\n",
    "    dcc.Graph(id='graph'),\n",
    "\n",
    "    html.Div(id='model-info', style={'textAlign': 'center', 'color': 'black'})\n",
    "])\n",
    "\n",
    "\n",
    "@app.callback(\n",
    "    [Output('graph', 'figure'),\n",
    "     Output('model-info', 'children')],\n",
    "    [Input('xdropdown', 'value'),\n",
    "     Input('checkbox', 'value')]\n",
    ")\n",
    "def update_graph(x_column, options):\n",
    "    model_info = ''\n",
    "    # Filtrowanie jeżeli zawiera string\n",
    "    if column_contains_strings(df, x_column):\n",
    "        df_encoded, encoding = encode_categorical(df.copy(), x_column)\n",
    "        X = df_encoded[x_column + '_encoded'].values.reshape(-1, 1)\n",
    "        x_labels = [encoding[val] for val in encoding.keys()]\n",
    "    else:\n",
    "        X = df[x_column].values.reshape(-1, 1)\n",
    "        x_labels = None\n",
    "\n",
    "    y = df['price']\n",
    "    fig = px.scatter(df, x=x_column, y='price')\n",
    "\n",
    "    # Regresja liniowa z użyciem selekcji postępującej\n",
    "    if 'linear_regression' in options:\n",
    "        selected_indices = [i for i, val in enumerate(options) if val == 'linear_regression']\n",
    "        for i in range(len(selected_indices)):\n",
    "            model = LinearRegression()\n",
    "            model.fit(X[:selected_indices[i] + 1], y[:selected_indices[i] + 1])\n",
    "            x_range = np.array([X.min(), X.max()])\n",
    "            y_pred = model.predict(x_range.reshape(-1, 1))\n",
    "            fig.add_scatter(x=x_range.flatten(), y=y_pred, mode='lines', name=f'Linear Regression {i + 1}')\n",
    "            model_info += f'Linear Regression {i + 1}:\\n'\n",
    "            model_info += f'Intercept: {model.intercept_}, Coefficient: {model.coef_}\\n\\n'\n",
    "\n",
    "    # Napisy\n",
    "    if x_labels:\n",
    "        fig.update_xaxes(type='category', categoryorder='array', categoryarray=x_labels)\n",
    "\n",
    "    return fig, model_info\n",
    "\n",
    "\n",
    "if __name__ == '__main__':\n",
    "    app.run_server(debug=True, use_reloader=False)\n"
   ]
  }
 ],
 "metadata": {
  "kernelspec": {
   "display_name": "Python 3",
   "language": "python",
   "name": "python3"
  },
  "language_info": {
   "codemirror_mode": {
    "name": "ipython",
    "version": 3
   },
   "file_extension": ".py",
   "mimetype": "text/x-python",
   "name": "python",
   "nbconvert_exporter": "python",
   "pygments_lexer": "ipython3",
   "version": "3.11.5"
  }
 },
 "nbformat": 4,
 "nbformat_minor": 2
}
